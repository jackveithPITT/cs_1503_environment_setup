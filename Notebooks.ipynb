{
 "cells": [
  {
   "cell_type": "markdown",
   "id": "cbd2bf97",
   "metadata": {},
   "source": [
    "# Environ Notebook 1\n",
    "- Jack Veith\n",
    "- 1/25/2024\n",
    "\n",
    "Machine Learning interests me because it is astoundinf to think about how we programmed a learning process in what is essentially rocks. I think the intersection of data science and computer science is very interesting. Machine learning can utilize **incomprehensible** amounts of data in relatively short amounts of time; time that, were a human to process the data, would amount to a **lifetime**. I think it is very interesting that we can model very complex relationships such as the English language with *mathematical functions and relations*.\n",
    "\n",
    "1. refresh my statistics knowledge\n",
    "2. learn about multiple types of distributions\n",
    "3. learn how different types of machine learning algorithms work\n",
    "4. employ linear algebra in computer science\n"
   ]
  },
  {
   "cell_type": "markdown",
   "id": "f7dcc230",
   "metadata": {},
   "source": [
    "![](https://media.giphy.com/media/v1.Y2lkPTc5MGI3NjExNHRqZGlnMGs3ZTl0MXB0YTdyN2N0M2NsdGZqMjR4MGE1dTg5YjZudiZlcD12MV9pbnRlcm5hbF9naWZfYnlfaWQmY3Q9Zw/HzPtbOKyBoBFsK4hyc/giphy.gif)"
   ]
  },
  {
   "cell_type": "markdown",
   "id": "da1013c1",
   "metadata": {},
   "source": [
    "## Jupyter Notebook Exercises\n"
   ]
  },
  {
   "cell_type": "code",
   "execution_count": 1,
   "id": "8df26d46",
   "metadata": {},
   "outputs": [
    {
     "name": "stdout",
     "output_type": "stream",
     "text": [
      "What is your name? Jack\n",
      "Hello Jack !\n"
     ]
    }
   ],
   "source": [
    "name = input(prompt=\"What is your name? \")\n",
    "print(\"Hello\", name, \"!\")"
   ]
  }
 ],
 "metadata": {
  "kernelspec": {
   "display_name": "Python 3 (ipykernel)",
   "language": "python",
   "name": "python3"
  },
  "language_info": {
   "codemirror_mode": {
    "name": "ipython",
    "version": 3
   },
   "file_extension": ".py",
   "mimetype": "text/x-python",
   "name": "python",
   "nbconvert_exporter": "python",
   "pygments_lexer": "ipython3",
   "version": "3.11.5"
  }
 },
 "nbformat": 4,
 "nbformat_minor": 5
}
